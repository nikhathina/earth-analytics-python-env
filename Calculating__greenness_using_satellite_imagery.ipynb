{
  "nbformat": 4,
  "nbformat_minor": 0,
  "metadata": {
    "colab": {
      "provenance": [],
      "include_colab_link": true
    },
    "kernelspec": {
      "name": "python3",
      "display_name": "Python 3"
    },
    "language_info": {
      "name": "python"
    }
  },
  "cells": [
    {
      "cell_type": "markdown",
      "metadata": {
        "id": "view-in-github",
        "colab_type": "text"
      },
      "source": [
        "<a href=\"https://colab.research.google.com/github/nikhathina/earth-analytics-python-env/blob/main/Calculating__greenness_using_satellite_imagery.ipynb\" target=\"_parent\"><img src=\"https://colab.research.google.com/assets/colab-badge.svg\" alt=\"Open In Colab\"/></a>"
      ]
    },
    {
      "cell_type": "code",
      "execution_count": null,
      "metadata": {
        "id": "l1RD0g5CjXO9"
      },
      "outputs": [],
      "source": [
        "from google.colab import drive\n",
        "drive.mount('/content/drive')"
      ]
    },
    {
      "cell_type": "code",
      "source": [
        "!pip install earthpy\n",
        "!pip install earthpy"
      ],
      "metadata": {
        "id": "hO7UJzepjjvT"
      },
      "execution_count": null,
      "outputs": []
    },
    {
      "cell_type": "code",
      "source": [
        "import rasterio\n",
        "import numpy as np\n",
        "import earthpy.plot as ep\n",
        "import matplotlib.pyplot as plt\n",
        "import geopandas as gpd\n",
        "from matplotlib.colors import ListedColormap\n",
        "from rasterio.mask import mask\n",
        "from scipy import stats\n",
        "\n",
        "\n",
        "\n",
        "band_4 = r'PATH_TO_BAND_4.TIF'\n",
        "band_5= r'PATH_TO_BAND_5.TIF'\n",
        "\n",
        "def calculate_ndvi(nir_band, red_band):\n",
        "    # Calculate NDVI using the formula: (NIR - Red) / (NIR + Red)\n",
        "    ndvi = (nir_band - red_band) / (nir_band + red_band)\n",
        "    return ndvi\n",
        "\n",
        "# Paths to Landsat bands (replace with your actual file paths)\n",
        "nir_band_path = band_5\n",
        "red_band_path = band_4\n",
        "\n",
        "# Load NIR and Red bands using rasterio\n",
        "with rasterio.open(nir_band_path) as nir_dataset, rasterio.open(red_band_path) as red_dataset:\n",
        "    nir_band = nir_dataset.read(1).astype(float)\n",
        "    red_band = red_dataset.read(1).astype(float)\n",
        "\n",
        "# Calculate NDVI\n",
        "\n",
        "ndvi = calculate_ndvi(nir_band, red_band)\n",
        "\n",
        "print ('ndvi')\n",
        "\n",
        "# # Optional: Save NDVI as a new raster\n",
        "output_ndvi_path = r\"PATH_TO_NDVI.tif\"\n",
        "with rasterio.open(nir_band_path) as src:\n",
        "     profile = src.profile\n",
        "     profile.update(dtype=rasterio.float32, count=1)\n",
        "     with rasterio.open(output_ndvi_path, 'w', **profile) as dst:\n",
        "       dst.write(ndvi, 1)\n",
        "\n",
        "# #print(\"NDVI calculation complete.\")\n",
        "\n",
        "ep.plot_bands(ndvi,  cmap=\"RdYlGn\", title='NDVI', vmin=-1, vmax=1)"
      ],
      "metadata": {
        "id": "_k_sKKXsjnWI"
      },
      "execution_count": null,
      "outputs": []
    },
    {
      "cell_type": "markdown",
      "source": [
        "CROP NDVI\n"
      ],
      "metadata": {
        "id": "IK7aQSRLj463"
      }
    },
    {
      "cell_type": "code",
      "source": [
        "\n",
        "inshp = (r'PATH_TO_BOUNDING_BOX_SHAPEFILE.shp')\n",
        "inRas = r\"PATH_TO_NSVI.tif\"\n",
        "outRas = r'PATH_TO_CROPPED_NDVI.TIF'\n",
        "\n",
        "Vector=gpd.read_file(inshp)\n",
        "\n",
        "#Vector=Vector[Vector['HYBAS_ID']==6060122060] # Subsetting to my AOI\n",
        "\n",
        "with rasterio.open(inRas) as src:\n",
        "    Vector=Vector.to_crs(src.crs)\n",
        "    # print(Vector.crs)\n",
        "    out_image, out_transform=mask(src,Vector.geometry,crop=True)\n",
        "    out_meta=src.meta.copy() # copy the metadata of the source DEM\n",
        "\n",
        "out_meta.update({\n",
        "    \"driver\":\"Gtiff\",\n",
        "    \"height\":out_image.shape[1], # height starts with shape[1]\n",
        "    \"width\":out_image.shape[2], # width starts with shape[2]\n",
        "    \"transform\":out_transform\n",
        "})\n",
        "\n",
        "\n",
        "# Auto adjust subplot to fit figure size\n",
        "plt.tight_layout()\n",
        "\n",
        "with rasterio.open(outRas,'w',**out_meta) as dst:\n",
        "    dst.write(out_image)"
      ],
      "metadata": {
        "id": "HA481Qptj6r1"
      },
      "execution_count": null,
      "outputs": []
    },
    {
      "cell_type": "markdown",
      "source": [
        "CROP CLOUD MASK"
      ],
      "metadata": {
        "id": "OzRdHB7IkDJe"
      }
    },
    {
      "cell_type": "code",
      "source": [
        "\n",
        "inshp = (r'PATH_TO_BOUNDING_BOX_SHAPE_FILE.shp')\n",
        "inRas = r'PATH_TO_CLOUD_MASK_IMAGE.tif'\n",
        "outRas = r'PATH_TO_CROPPED_CLOUD_MASK_IMAGE.TIF'\n",
        "\n",
        "Vector=gpd.read_file(inshp)\n",
        "\n",
        "#Vector=Vector[Vector['HYBAS_ID']==6060122060] # Subsetting to my AOI\n",
        "\n",
        "with rasterio.open(inRas) as src:\n",
        "    Vector=Vector.to_crs(src.crs)\n",
        "    # print(Vector.crs)\n",
        "    out_image, out_transform=mask(src,Vector.geometry,crop=True)\n",
        "    out_meta=src.meta.copy() # copy the metadata of the source DEM\n",
        "\n",
        "out_meta.update({\n",
        "    \"driver\":\"Gtiff\",\n",
        "    \"height\":out_image.shape[1], # height starts with shape[1]\n",
        "    \"width\":out_image.shape[2], # width starts with shape[2]\n",
        "    \"transform\":out_transform\n",
        "})\n",
        "\n",
        "\n",
        "# Auto adjust subplot to fit figure size\n",
        "plt.tight_layout()\n",
        "\n",
        "with rasterio.open(outRas,'w',**out_meta) as dst:\n",
        "    dst.write(out_image)\n"
      ],
      "metadata": {
        "id": "tvia5w4nkGh2"
      },
      "execution_count": null,
      "outputs": []
    },
    {
      "cell_type": "markdown",
      "source": [
        "CLOUD percentage"
      ],
      "metadata": {
        "id": "kLK_8CKBkKAY"
      }
    },
    {
      "cell_type": "code",
      "source": [
        "\n",
        "\n",
        "# Load the cloud mask raster\n",
        "cloud_mask_path =r'PATH_TO_CROPPED_CLOUD_MASK_IMAGE.TIF'\n",
        "\n",
        "with rasterio.open(cloud_mask_path) as src:\n",
        "    cloud_mask = src.read(1).astype(np.uint8)\n",
        "\n",
        "# Count cloud and non-cloud pixels\n",
        "cloud_pixels = (cloud_mask == 1).sum()\n",
        "total_pixels = cloud_mask.size\n",
        "\n",
        "# Calculate percentage of cloud cover\n",
        "cloud_cover_percentage = (cloud_pixels / total_pixels) * 100\n",
        "\n",
        "print(f\"Cloud Cover Percentage: {cloud_cover_percentage:.2f}%\")"
      ],
      "metadata": {
        "id": "jA0WwnpVkMY8"
      },
      "execution_count": null,
      "outputs": []
    },
    {
      "cell_type": "markdown",
      "source": [
        "Normalize NDVI"
      ],
      "metadata": {
        "id": "tMQlw4L7kVds"
      }
    },
    {
      "cell_type": "code",
      "source": [
        "# Load NDVI raster, cloud mask raster, and cloud percentage value\n",
        "ndvi_path = r'PATH_TO_CROPPED_NDVI.TIF'\n",
        "cloud_mask_path = r'PATH_TO_CROPPED_CLOUD_MASK_IMAGE.TIF'\n",
        "cloud_percentage = 0.4433  # Replace with your cloud percentage value\n",
        "\n",
        "with rasterio.open(ndvi_path) as ndvi_src, rasterio.open(cloud_mask_path) as cloud_mask_src:\n",
        "    ndvi = ndvi_src.read(1).astype(float)\n",
        "    cloud_mask = cloud_mask_src.read(1).astype(bool)\n",
        "\n",
        "# Calculate the maximum and minimum NDVI values within the non-cloud areas\n",
        "min_ndvi = np.min(ndvi[~cloud_mask])\n",
        "max_ndvi = np.max(ndvi[~cloud_mask])\n",
        "\n",
        "# Normalize NDVI using cloud mask and cloud percentage\n",
        "normalized_ndvi = (ndvi - cloud_percentage * min_ndvi) / (1 - cloud_percentage * min_ndvi)\n",
        "\n",
        "# Save the normalized NDVI to a new TIFF file (optional)\n",
        "output_path = r'PATH_TO_NORMALIZED_NDVI.TIF'\n",
        "with rasterio.open(ndvi_path) as ndvi_src:\n",
        "    profile = ndvi_src.profile\n",
        "    with rasterio.open(output_path, 'w', **profile) as dst:\n",
        "        dst.write(normalized_ndvi, 1)\n"
      ],
      "metadata": {
        "id": "VWNsmP6rkVOG"
      },
      "execution_count": null,
      "outputs": []
    },
    {
      "cell_type": "markdown",
      "source": [
        "PLOT_NDVI"
      ],
      "metadata": {
        "id": "zyc1ZZAkkbAP"
      }
    },
    {
      "cell_type": "code",
      "source": [
        "tif_path = r'PATH_TO_NORMALIZED_NDVI.TIF'\n",
        "with rasterio.open(tif_path) as src:\n",
        "    # Read the raster data\n",
        "    normalized_ndvi = src.read(1)\n",
        "\n",
        "    # Get the spatial transformation (georeferencing information)\n",
        "    transform = src.transform\n",
        "\n",
        "    ep.plot_bands(normalized_ndvi,  cmap=\"RdYlGn\", title='NORMALIZED_NDVI', vmin=-1, vmax=1)"
      ],
      "metadata": {
        "id": "8OolN1rDkeVA"
      },
      "execution_count": null,
      "outputs": []
    },
    {
      "cell_type": "markdown",
      "source": [
        "CALCULATE STATISTICS FOR NDVI"
      ],
      "metadata": {
        "id": "kgftlj0ilQ-D"
      }
    },
    {
      "cell_type": "code",
      "source": [
        "\n",
        "def calculate_ndvi_statistics(ndvi_array):\n",
        "    mean_ndvi = np.nanmean(ndvi_array)\n",
        "    median_ndvi = np.nanmedian(ndvi_array)\n",
        "    std_ndvi = np.nanstd(ndvi_array)\n",
        "    min_ndvi = np.nanmin(ndvi_array)\n",
        "    max_ndvi = np.nanmax(ndvi_array)\n",
        "    return mean_ndvi, median_ndvi, std_ndvi, min_ndvi, max_ndvi\n",
        "\n",
        "# Calculate NDVI statistics\n",
        "mean_ndvi, median_ndvi, std_ndvi, min_ndvi, max_ndvi = calculate_ndvi_statistics(normalized_ndvi)\n",
        "\n",
        "print(\"Mean NDVI:\", mean_ndvi)\n",
        "print(\"Median NDVI:\", median_ndvi)\n",
        "print(\"Standard Deviation NDVI:\", std_ndvi)\n",
        "print(\"Minimum NDVI:\", min_ndvi)\n",
        "print(\"Maximum NDVI:\", max_ndvi)"
      ],
      "metadata": {
        "id": "hujbaX1SknMj"
      },
      "execution_count": null,
      "outputs": []
    },
    {
      "cell_type": "markdown",
      "source": [
        "CLASSIFY THE NDVI"
      ],
      "metadata": {
        "id": "kywRzHCBlWB9"
      }
    },
    {
      "cell_type": "code",
      "source": [
        "# Create classes and apply to NDVI results\n",
        "ndvi_class_bins = [-np.inf, 0, 0.1, 0.25, 0.4, 0.52, np.inf]\n",
        "ndvi_landsat_class = np.digitize(normalized_ndvi, ndvi_class_bins)\n",
        "\n",
        "# Apply the nodata mask to the newly classified NDVI data\n",
        "ndvi_landsat_class = np.ma.masked_where(\n",
        "    np.ma.getmask(normalized_ndvi), ndvi_landsat_class\n",
        ")\n",
        "np.unique(ndvi_landsat_class)"
      ],
      "metadata": {
        "id": "899kHnULkr82"
      },
      "execution_count": null,
      "outputs": []
    },
    {
      "cell_type": "markdown",
      "source": [
        "PLOT THE CLASSIFIED NDVI"
      ],
      "metadata": {
        "id": "q9tyE3qJlehr"
      }
    },
    {
      "cell_type": "code",
      "source": [
        "# Define color map\n",
        "nbr_colors = [\"gray\", \"y\", \"yellowgreen\", \"g\", \"darkgreen\"]\n",
        "nbr_cmap = ListedColormap(nbr_colors)\n",
        "\n",
        "# Define class names\n",
        "ndvi_cat_names = [\n",
        "    \"No Vegetation\",\n",
        "    \"Bare Vegetation\",\n",
        "    \"Low Vegetation\",\n",
        "    \"Moderate Vegetation\",\n",
        "    \"High Vegetation\",\n",
        "]\n",
        "\n",
        "# Get list of classes\n",
        "classes = np.unique(ndvi_landsat_class)\n",
        "classes = classes.tolist()\n",
        "# The mask returns a value of none in the classes. remove that\n",
        "classes = classes[0:5]\n",
        "\n",
        "# Plot your data\n",
        "fig, ax = plt.subplots(figsize=(12, 12))\n",
        "im = ax.imshow(ndvi_landsat_class, cmap=nbr_cmap)\n",
        "\n",
        "ep.draw_legend(im_ax=im, classes=classes, titles=ndvi_cat_names)\n",
        "ax.set_title(\n",
        "    \"CLASSIFIED_ Normalized Difference Vegetation Index (NDVI)\",\n",
        "    fontsize=14,\n",
        ")\n",
        "ax.set_axis_off()\n",
        "\n",
        "# Auto adjust subplot to fit figure size\n",
        "plt.tight_layout()\n",
        "\n",
        "\n",
        "# Save the plot as an image file (e.g., PNG, JPEG, etc.)\n",
        "output_image_path = r'PATH_TO_CLASSIFIED_NDVI.jpeg'\n",
        "plt.savefig(output_image_path, dpi=600, bbox_inches='tight')\n",
        "\n",
        "plt.show()\n"
      ],
      "metadata": {
        "id": "3hG_nWwAkyX8"
      },
      "execution_count": null,
      "outputs": []
    },
    {
      "cell_type": "markdown",
      "source": [
        "DEFINE THRESHOLDS AND CALCULATE PERCENTAGE GREENNESS"
      ],
      "metadata": {
        "id": "3PPWvrAillLe"
      }
    },
    {
      "cell_type": "code",
      "source": [
        "# Define thresholds\n",
        "Bare_Vegetation_threshold= 0.1\n",
        "Low_Vegetation_threshold=0.25\n",
        "Moderate_Vegetation_threshold= 0.4\n",
        "#High_Vegetation_threshold= 0.4\n",
        "\n",
        "# Count pixels within each category\n",
        "Bare_Vegetation_threshold_pixels = (normalized_ndvi < Bare_Vegetation_threshold).sum()\n",
        "Low_Vegetation_threshold_pixels = ((normalized_ndvi >= Bare_Vegetation_threshold) & (normalized_ndvi < Low_Vegetation_threshold)).sum()\n",
        "Moderate_Vegetation_threshold_pixels = ((normalized_ndvi >= Low_Vegetation_threshold) & (normalized_ndvi < Moderate_Vegetation_threshold)).sum()\n",
        "High_Vegetation_threshold_pixels=(normalized_ndvi>= Moderate_Vegetation_threshold).sum()\n",
        "\n",
        "# Calculate total number of pixels\n",
        "total_pixels = normalized_ndvi.size\n",
        "\n",
        "# Calculate percentage of greenness\n",
        "percentage_Bare = (Bare_Vegetation_threshold_pixels / total_pixels) * 100\n",
        "percentage_Low = (Low_Vegetation_threshold_pixels / total_pixels) * 100\n",
        "percentage_Moderate_veg = (Moderate_Vegetation_threshold_pixels / total_pixels) * 100\n",
        "percentage_High = (High_Vegetation_threshold_pixels/ total_pixels) * 100\n",
        "\n",
        "print(f\"Percentage of Bare Vegetation: {percentage_Bare :.2f}%\")\n",
        "print(f\"Percentage of Low Vegetation: {percentage_Low:.2f}%\")\n",
        "print(f\"Percentage of Moderate Vegetation: {percentage_Moderate_veg:.2f}%\")\n",
        "print(f\"Percentage of High Vegetation: {percentage_High :.2f}%\")"
      ],
      "metadata": {
        "id": "sYZsrAIqk4Wh"
      },
      "execution_count": null,
      "outputs": []
    }
  ]
}