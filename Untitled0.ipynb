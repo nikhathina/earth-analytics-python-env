{
  "nbformat": 4,
  "nbformat_minor": 0,
  "metadata": {
    "colab": {
      "name": "Untitled0.ipynb",
      "provenance": [],
      "collapsed_sections": [],
      "mount_file_id": "1R2WQVCNXvGrZCwYlj8OqR69zSDTS37JW",
      "authorship_tag": "ABX9TyPXewzsK4SkGdJyDLyyVZgW",
      "include_colab_link": true
    },
    "kernelspec": {
      "name": "python3",
      "display_name": "Python 3"
    },
    "language_info": {
      "name": "python"
    }
  },
  "cells": [
    {
      "cell_type": "markdown",
      "metadata": {
        "id": "view-in-github",
        "colab_type": "text"
      },
      "source": [
        "<a href=\"https://colab.research.google.com/github/nikhathina/earth-analytics-python-env/blob/main/Untitled0.ipynb\" target=\"_parent\"><img src=\"https://colab.research.google.com/assets/colab-badge.svg\" alt=\"Open In Colab\"/></a>"
      ]
    },
    {
      "cell_type": "code",
      "source": [
        "from google.colab import drive\n",
        "drive.mount('/content/drive') \n"
      ],
      "metadata": {
        "colab": {
          "base_uri": "https://localhost:8080/"
        },
        "id": "rXSWgJCEZs_n",
        "outputId": "b6376d24-da95-4277-a6a6-b208ee9d192f"
      },
      "execution_count": 8,
      "outputs": [
        {
          "output_type": "stream",
          "name": "stdout",
          "text": [
            "Drive already mounted at /content/drive; to attempt to forcibly remount, call drive.mount(\"/content/drive\", force_remount=True).\n"
          ]
        }
      ]
    },
    {
      "cell_type": "code",
      "source": [
        "import pandas as pd\n",
        "import folium\n",
        "import numpy as np\n",
        "import webbrowser\n",
        "import folium.plugins as plugins"
      ],
      "metadata": {
        "id": "XmjcGyzXbb24"
      },
      "execution_count": 9,
      "outputs": []
    },
    {
      "cell_type": "code",
      "source": [
        "#import csv\n",
        "df = pd.read_csv ('/content/drive/MyDrive/geocoded_addresses.csv')\n",
        "#print (df.head())\n",
        "\n",
        "count_nan = df['location'].isnull().sum()\n",
        "print ('Count of NaN: ' + str(count_nan)) #count-nan-values\n",
        "nan_values= df[df.isna().any(axis=1)] #select all rows-with-nan-values\n",
        "#print (nan_values)\n",
        "#df= pd.DataFrame(nan_values, columns= ['ID','ID Code', 'Facility Name', 'addresses'])\n",
        "#print (df)\n",
        "#df.to_csv('/content/drive/MyDrive/ungeocoded_addresses.csv', index = False)\n",
        "nan_value = float(\"NaN\")\n",
        "#Convert NaN values to empty string\n",
        "\n",
        "df.replace(\"\", nan_value, inplace=True)\n",
        "\n",
        "df.dropna(subset=[], inplace=True)\n",
        "df.dropna(subset = [\"location\", \"latitude\", \"longitude\"], inplace=True)\n",
        "print (df.head())\n",
        "\n",
        "#df= ['geocoded_add']\n",
        "np.where (df.applymap(lambda x: x == ''))\n",
        "\n",
        "map1 = folium.Map(location=(40.14, -88.21), tiles='cartodbpositron', zoom_start=12)\n",
        "df.apply(lambda row:folium.CircleMarker(location=[row[\"latitude\"], row[\"longitude\"]]).add_to(map1), axis=1)\n",
        "\n",
        "\n",
        "\n",
        "#display (map1)\n",
        "\n",
        "folium_map = folium.Map(location=(40.14, -88.21),\n",
        "                        zoom_start=12,\n",
        "                        tiles='cartodbpositron')\n",
        "\n",
        "\n",
        "plugins.FastMarkerCluster(data=list(zip(df['latitude'].values, df['longitude'].values))).add_to(folium_map)\n",
        "folium.LayerControl().add_to(folium_map)\n",
        "folium_map\n",
        "#Display the map\n",
        "folium_map.save(\"map.html\")\n",
        "webbrowser.open(\"map.html\")"
      ],
      "metadata": {
        "colab": {
          "base_uri": "https://localhost:8080/"
        },
        "id": "HZSxGj4IZYyB",
        "outputId": "ddba8c73-65d6-4454-f28f-ae06295b77a7"
      },
      "execution_count": 23,
      "outputs": [
        {
          "output_type": "stream",
          "name": "stdout",
          "text": [
            "Count of NaN: 55\n",
            "   ID ID Code                Facility Name  ...   latitude  longitude altitude\n",
            "0   1      FF                       Arby's  ...  40.319478 -88.212826      0.0\n",
            "1   2      FF                       Arby's  ...  40.085899 -88.246450      0.0\n",
            "2   3      FF                       Arby's  ...  40.112771 -88.277867      0.0\n",
            "4   5      FF                   Aroma Café  ...  40.117107 -88.243411      0.0\n",
            "6   7      FF  Auntie Anne's Soft Pretzels  ...  40.141979 -88.241524      0.0\n",
            "\n",
            "[5 rows x 9 columns]\n"
          ]
        },
        {
          "output_type": "execute_result",
          "data": {
            "text/plain": [
              "False"
            ]
          },
          "metadata": {},
          "execution_count": 23
        }
      ]
    }
  ]
}